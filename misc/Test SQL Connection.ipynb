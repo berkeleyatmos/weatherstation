{
 "cells": [
  {
   "cell_type": "code",
   "execution_count": null,
   "metadata": {
    "collapsed": true
   },
   "outputs": [],
   "source": [
    "\"\"\"This notebook requires paramiko, sshtunnel, and pymysql\"\"\"\n",
    "\"pip install paramiko\"\n",
    "\"pip install sshtunnel\"\n",
    "\"pip install pymysql\""
   ]
  },
  {
   "cell_type": "code",
   "execution_count": 1,
   "metadata": {
    "collapsed": true
   },
   "outputs": [],
   "source": [
    "import numpy as np\n",
    "import datetime as dt\n",
    "import os\n",
    "import time\n",
    "import paramiko\n",
    "import pandas as pd\n",
    "from paramiko import SSHClient\n",
    "from sshtunnel import SSHTunnelForwarder\n",
    "import pymysql"
   ]
  },
  {
   "cell_type": "code",
   "execution_count": 6,
   "metadata": {
    "collapsed": false
   },
   "outputs": [],
   "source": [
    "\"\"\"Connect to the MYSQL database hosted on OCF's server and run queries!\"\"\"\n",
    "sql_hostname = 'mysql'\n",
    "sql_username = 'ankurmahesh'\n",
    "sql_password = 'b1C4ZcoJR8lTXMm3EocB46ek'\n",
    "sql_main_database = 'ankurmahesh'\n",
    "sql_port = 3306\n",
    "ssh_host = 'ssh.ocf.berkeley.edu'\n",
    "ssh_user = 'ankurmahesh'\n",
    "ssh_port = 22\n",
    "\n",
    "date = \"01-01-01\"\n",
    "temperature1 = 75.0\n",
    "temperature2 = 75.7\n",
    "pressure = 1.0\n",
    "humidity = 5.0\n",
    "\n",
    "with SSHTunnelForwarder(\n",
    "    (ssh_host, ssh_port),\n",
    "    ssh_username=ssh_user,\n",
    "    ssh_password=\"2easy4me\",\n",
    "    remote_bind_address=(sql_hostname, sql_port)) as tunnel:\n",
    "    \n",
    "    conn = pymysql.connect(host='127.0.0.1', user=sql_username,\n",
    "        passwd=sql_password, db=sql_main_database,\n",
    "        port=tunnel.local_bind_port)\n",
    "    #insert_query = \"INSERT INTO weatherdata VALUES({},{},{},{},{});\".format(date, temperature1, temperature2, pressure, humidity)\n",
    "    query = \"SELECT temperature1 from weatherdata;\"\n",
    "    data = pd.read_sql_query(query, conn)\n",
    "    conn.close() "
   ]
  },
  {
   "cell_type": "code",
   "execution_count": 7,
   "metadata": {
    "collapsed": false
   },
   "outputs": [
    {
     "data": {
      "text/html": [
       "<div>\n",
       "<style>\n",
       "    .dataframe thead tr:only-child th {\n",
       "        text-align: right;\n",
       "    }\n",
       "\n",
       "    .dataframe thead th {\n",
       "        text-align: left;\n",
       "    }\n",
       "\n",
       "    .dataframe tbody tr th {\n",
       "        vertical-align: top;\n",
       "    }\n",
       "</style>\n",
       "<table border=\"1\" class=\"dataframe\">\n",
       "  <thead>\n",
       "    <tr style=\"text-align: right;\">\n",
       "      <th></th>\n",
       "      <th>temperature1</th>\n",
       "    </tr>\n",
       "  </thead>\n",
       "  <tbody>\n",
       "    <tr>\n",
       "      <th>0</th>\n",
       "      <td>1.0</td>\n",
       "    </tr>\n",
       "  </tbody>\n",
       "</table>\n",
       "</div>"
      ],
      "text/plain": [
       "   temperature1\n",
       "0           1.0"
      ]
     },
     "execution_count": 7,
     "metadata": {},
     "output_type": "execute_result"
    }
   ],
   "source": [
    "data"
   ]
  },
  {
   "cell_type": "code",
   "execution_count": null,
   "metadata": {
    "collapsed": true
   },
   "outputs": [],
   "source": []
  }
 ],
 "metadata": {
  "kernelspec": {
   "display_name": "Python 2",
   "language": "python",
   "name": "python2"
  },
  "language_info": {
   "codemirror_mode": {
    "name": "ipython",
    "version": 2
   },
   "file_extension": ".py",
   "mimetype": "text/x-python",
   "name": "python",
   "nbconvert_exporter": "python",
   "pygments_lexer": "ipython2",
   "version": "2.7.13"
  }
 },
 "nbformat": 4,
 "nbformat_minor": 0
}
