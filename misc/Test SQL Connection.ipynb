{
 "cells": [
  {
   "cell_type": "markdown",
   "metadata": {},
   "source": [
    "This notebook requires paramiko, sshtunnel, and pymysql\n",
    "\n",
    "\n",
    "\"pip install paramiko\"\n",
    "\"pip install sshtunnel\"\n",
    "\"pip install pymysql\"\n",
    "\n",
    "Paramiko is optional and is only necessary if you want to read from the RSA private key file to get ssh access."
   ]
  },
  {
   "cell_type": "code",
   "execution_count": 1,
   "metadata": {
    "collapsed": true
   },
   "outputs": [],
   "source": [
    "import numpy as np\n",
    "import datetime as dt\n",
    "import os\n",
    "import time\n",
    "import paramiko\n",
    "import pandas as pd\n",
    "from sshtunnel import SSHTunnelForwarder\n",
    "import pymysql"
   ]
  },
  {
   "cell_type": "code",
   "execution_count": 17,
   "metadata": {
    "collapsed": false
   },
   "outputs": [],
   "source": [
    "\"\"\"Connect to the MYSQL database hosted on OCF's server and run queries!\"\"\"\n",
    "sql_hostname = 'mysql'\n",
    "sql_username = 'ankurmahesh'\n",
    "with open(\"sql_password\") as f:\n",
    "    sql_password = f.read()\n",
    "\n",
    "with open(\"ssh_password\") as f:\n",
    "    ssh_password = f.read()\n",
    "\n",
    "sql_main_database = 'ankurmahesh'\n",
    "sql_port = 3306\n",
    "ssh_host = 'ssh.ocf.berkeley.edu'\n",
    "ssh_user = 'ankurmahesh'\n",
    "ssh_port = 22\n",
    "#mypkey = paramiko.RSAKey.from_private_key_file(pkeyfilepath)\n",
    "\n",
    "date = \"01-01-01\"\n",
    "temperature1 = 75.0\n",
    "temperature2 = 75.7\n",
    "pressure = 1.0\n",
    "humidity = 5.0\n",
    "\n",
    "with SSHTunnelForwarder(\n",
    "    (ssh_host, ssh_port),\n",
    "    ssh_username=ssh_user,\n",
    "    ssh_password=ssh_password,\n",
    "    #ssh_pkey=mypkey,\n",
    "    remote_bind_address=(sql_hostname, sql_port)) as tunnel:\n",
    "    \n",
    "    conn = pymysql.connect(host='127.0.0.1', user=sql_username,\n",
    "        passwd=sql_password, db=sql_main_database,\n",
    "        port=tunnel.local_bind_port, autocommit=True)\n",
    "    #sample read query\n",
    "    query = \"SELECT temperature1 from weatherdata;\"\n",
    "    data = pd.read_sql_query(query, conn)\n",
    "    \n",
    "    #sample insert into database\n",
    "    insert_command = \"INSERT INTO weatherdata VALUES({},{},{},{},{});\".format(date, temperature1, \\\n",
    "                                                                    temperature2, pressure, humidity)\n",
    "    cur = conn.cursor()\n",
    "    cur.execute(insert_command)\n",
    "    conn.close() "
   ]
  },
  {
   "cell_type": "code",
   "execution_count": 18,
   "metadata": {
    "collapsed": false
   },
   "outputs": [
    {
     "data": {
      "text/html": [
       "<div>\n",
       "<style>\n",
       "    .dataframe thead tr:only-child th {\n",
       "        text-align: right;\n",
       "    }\n",
       "\n",
       "    .dataframe thead th {\n",
       "        text-align: left;\n",
       "    }\n",
       "\n",
       "    .dataframe tbody tr th {\n",
       "        vertical-align: top;\n",
       "    }\n",
       "</style>\n",
       "<table border=\"1\" class=\"dataframe\">\n",
       "  <thead>\n",
       "    <tr style=\"text-align: right;\">\n",
       "      <th></th>\n",
       "      <th>temperature1</th>\n",
       "    </tr>\n",
       "  </thead>\n",
       "  <tbody>\n",
       "    <tr>\n",
       "      <th>0</th>\n",
       "      <td>1.0</td>\n",
       "    </tr>\n",
       "    <tr>\n",
       "      <th>1</th>\n",
       "      <td>75.0</td>\n",
       "    </tr>\n",
       "  </tbody>\n",
       "</table>\n",
       "</div>"
      ],
      "text/plain": [
       "   temperature1\n",
       "0           1.0\n",
       "1          75.0"
      ]
     },
     "execution_count": 18,
     "metadata": {},
     "output_type": "execute_result"
    }
   ],
   "source": [
    "data"
   ]
  },
  {
   "cell_type": "code",
   "execution_count": 12,
   "metadata": {
    "collapsed": false
   },
   "outputs": [
    {
     "data": {
      "text/plain": [
       "'INSERT INTO weatherdata VALUES(%s,%f,%f,%f,%f);'"
      ]
     },
     "execution_count": 12,
     "metadata": {},
     "output_type": "execute_result"
    }
   ],
   "source": [
    "insert_command"
   ]
  },
  {
   "cell_type": "code",
   "execution_count": null,
   "metadata": {
    "collapsed": true
   },
   "outputs": [],
   "source": []
  }
 ],
 "metadata": {
  "kernelspec": {
   "display_name": "Python 2",
   "language": "python",
   "name": "python2"
  },
  "language_info": {
   "codemirror_mode": {
    "name": "ipython",
    "version": 2
   },
   "file_extension": ".py",
   "mimetype": "text/x-python",
   "name": "python",
   "nbconvert_exporter": "python",
   "pygments_lexer": "ipython2",
   "version": "2.7.13"
  }
 },
 "nbformat": 4,
 "nbformat_minor": 0
}
